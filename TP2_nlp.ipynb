{
  "nbformat": 4,
  "nbformat_minor": 0,
  "metadata": {
    "colab": {
      "provenance": []
    },
    "kernelspec": {
      "name": "python3",
      "display_name": "Python 3"
    },
    "language_info": {
      "name": "python"
    }
  },
  "cells": [
    {
      "cell_type": "markdown",
      "source": [
        "Importer la la bibliothèque Gensim"
      ],
      "metadata": {
        "id": "FtfZO2bJRuv7"
      }
    },
    {
      "cell_type": "code",
      "execution_count": 1,
      "metadata": {
        "id": "CLgonUoWRQoy"
      },
      "outputs": [],
      "source": [
        "import gensim\n",
        "from gensim.models import Word2Vec"
      ]
    },
    {
      "cell_type": "markdown",
      "source": [
        "Lire le fichier text"
      ],
      "metadata": {
        "id": "MKchvUvOSLy-"
      }
    },
    {
      "cell_type": "code",
      "source": [
        "# Ouverture du fichier en mode lecture\n",
        "with open('/content/text', 'r', encoding='utf-8') as file:\n",
        "    # Lecture du contenu du fichier\n",
        "    contenu = file.read()\n",
        "\n",
        "# Affichage du contenu du fichier\n",
        "print(contenu)\n"
      ],
      "metadata": {
        "colab": {
          "base_uri": "https://localhost:8080/"
        },
        "id": "8wALmWpuSPBa",
        "outputId": "464ee77f-b7e4-4fcc-b82e-cb5764f7b141"
      },
      "execution_count": 2,
      "outputs": [
        {
          "output_type": "stream",
          "name": "stdout",
          "text": [
            "**Morocco and Marrakech: A Tapestry of Tradition and Modernity** Morocco, located at the crossroads of Europe and Africa, is a country drenched in history, mystery, and cultural richness. A testament to the ancient civilizations that once flourished here, this North African kingdom boasts a unique blend of Arab, Berber, and European influences. At the heart of Morocco's rich tapestry lies Marrakech, one of its four imperial cities and a vibrant epicenter of tradition and modernity. **Geographical Significance** Morocco is bordered by the Atlantic Ocean to the west, the Mediterranean Sea to the north, Algeria to the east and southeast, and the vast Sahara desert to the south. Its strategic location has historically made it a sought-after territory and a melting pot of cultures, religions, and trade routes. **Marrakech: The Red City** Marrakech, often referred to as \"The Red City\" due to its distinctive red-hued buildings, stands against the backdrop of the snow-capped Atlas Mountains. Established in the 11th century, it has remained a crucial political, economic, and cultural center of Morocco. **Journey through the Medina** Marrakech's old town, the Medina, is a UNESCO World Heritage site and a labyrinthine maze of narrow alleys, bustling souks, and historical landmarks. The Djemaa el-Fna Square lies at the heart of the Medina and comes alive every evening with storytellers, musicians, snake charmers, and food stalls offering tantalizing Moroccan delicacies. **Palaces and Gardens** The city is also home to grand palaces like the Bahia Palace, showcasing intricate Islamic architecture, and the Saadian Tombs, remnants of the Saadian dynasty. The Majorelle Garden, restored by the fashion designer Yves Saint Laurent, is a tranquil oasis of cacti, palm trees, and cobalt blue accents. **Modern Marrakech** While tradition and history permeate Marrakech, the city is not averse to the modern world. Gueliz, the new town, is brimming with contemporary art galleries, stylish cafes, and chic boutiques, offering a stark contrast to the ancient Medina. **Moroccan Cuisine** No journey through Morocco and Marrakech would be complete without indulging in the local cuisine. Tagines, couscous, and pastilla are just a few of the many dishes that combine a plethora of flavors and spices like saffron, cumin, and mint. Paired with Moroccan mint tea, the culinary experience is truly unparalleled. **In Conclusion** Morocco, with Marrakech at its heart, offers travelers an unparalleled journey through time. The convergence of history, culture, architecture, and gastronomy makes it an enthralling destination for those seeking both adventure and reflection. As the Moroccan proverb goes, \"He who does not travel does not know the value of men.\" In the case of Morocco and Marrakech, it's not just the value of men, but also the value of time, tradition, and tales that have spanned centuries.\n"
          ]
        }
      ]
    },
    {
      "cell_type": "markdown",
      "source": [
        " Prétraitement du texte:transformer en miniscule et le diviser en tokens"
      ],
      "metadata": {
        "id": "JrPlm_cSScxu"
      }
    },
    {
      "cell_type": "code",
      "source": [
        "# Fonction de prétraitement du texte\n",
        "def preprocess_text(text):\n",
        "    text = text.lower()\n",
        "    text = gensim.utils.simple_preprocess(text)\n",
        "    return text"
      ],
      "metadata": {
        "id": "-bFkqMnTSvg-"
      },
      "execution_count": 3,
      "outputs": []
    },
    {
      "cell_type": "code",
      "source": [
        "# Prétraitement du texte\n",
        "preprocessed_text = preprocess_text(contenu)\n",
        "print(preprocessed_text)"
      ],
      "metadata": {
        "colab": {
          "base_uri": "https://localhost:8080/"
        },
        "id": "oD9XcAaNS5Iz",
        "outputId": "0ca17618-18b5-4861-b3f8-e386486db74e"
      },
      "execution_count": 5,
      "outputs": [
        {
          "output_type": "stream",
          "name": "stdout",
          "text": [
            "['morocco', 'and', 'marrakech', 'tapestry', 'of', 'tradition', 'and', 'modernity', 'morocco', 'located', 'at', 'the', 'crossroads', 'of', 'europe', 'and', 'africa', 'is', 'country', 'drenched', 'in', 'history', 'mystery', 'and', 'cultural', 'richness', 'testament', 'to', 'the', 'ancient', 'civilizations', 'that', 'once', 'flourished', 'here', 'this', 'north', 'african', 'kingdom', 'boasts', 'unique', 'blend', 'of', 'arab', 'berber', 'and', 'european', 'influences', 'at', 'the', 'heart', 'of', 'morocco', 'rich', 'tapestry', 'lies', 'marrakech', 'one', 'of', 'its', 'four', 'imperial', 'cities', 'and', 'vibrant', 'epicenter', 'of', 'tradition', 'and', 'modernity', 'geographical', 'significance', 'morocco', 'is', 'bordered', 'by', 'the', 'atlantic', 'ocean', 'to', 'the', 'west', 'the', 'mediterranean', 'sea', 'to', 'the', 'north', 'algeria', 'to', 'the', 'east', 'and', 'southeast', 'and', 'the', 'vast', 'sahara', 'desert', 'to', 'the', 'south', 'its', 'strategic', 'location', 'has', 'historically', 'made', 'it', 'sought', 'after', 'territory', 'and', 'melting', 'pot', 'of', 'cultures', 'religions', 'and', 'trade', 'routes', 'marrakech', 'the', 'red', 'city', 'marrakech', 'often', 'referred', 'to', 'as', 'the', 'red', 'city', 'due', 'to', 'its', 'distinctive', 'red', 'hued', 'buildings', 'stands', 'against', 'the', 'backdrop', 'of', 'the', 'snow', 'capped', 'atlas', 'mountains', 'established', 'in', 'the', 'th', 'century', 'it', 'has', 'remained', 'crucial', 'political', 'economic', 'and', 'cultural', 'center', 'of', 'morocco', 'journey', 'through', 'the', 'medina', 'marrakech', 'old', 'town', 'the', 'medina', 'is', 'unesco', 'world', 'heritage', 'site', 'and', 'labyrinthine', 'maze', 'of', 'narrow', 'alleys', 'bustling', 'souks', 'and', 'historical', 'landmarks', 'the', 'djemaa', 'el', 'fna', 'square', 'lies', 'at', 'the', 'heart', 'of', 'the', 'medina', 'and', 'comes', 'alive', 'every', 'evening', 'with', 'storytellers', 'musicians', 'snake', 'charmers', 'and', 'food', 'stalls', 'offering', 'tantalizing', 'moroccan', 'delicacies', 'palaces', 'and', 'gardens', 'the', 'city', 'is', 'also', 'home', 'to', 'grand', 'palaces', 'like', 'the', 'bahia', 'palace', 'showcasing', 'intricate', 'islamic', 'architecture', 'and', 'the', 'saadian', 'tombs', 'remnants', 'of', 'the', 'saadian', 'dynasty', 'the', 'majorelle', 'garden', 'restored', 'by', 'the', 'fashion', 'designer', 'yves', 'saint', 'laurent', 'is', 'tranquil', 'oasis', 'of', 'cacti', 'palm', 'trees', 'and', 'cobalt', 'blue', 'accents', 'modern', 'marrakech', 'while', 'tradition', 'and', 'history', 'permeate', 'marrakech', 'the', 'city', 'is', 'not', 'averse', 'to', 'the', 'modern', 'world', 'gueliz', 'the', 'new', 'town', 'is', 'brimming', 'with', 'contemporary', 'art', 'galleries', 'stylish', 'cafes', 'and', 'chic', 'boutiques', 'offering', 'stark', 'contrast', 'to', 'the', 'ancient', 'medina', 'moroccan', 'cuisine', 'no', 'journey', 'through', 'morocco', 'and', 'marrakech', 'would', 'be', 'complete', 'without', 'indulging', 'in', 'the', 'local', 'cuisine', 'tagines', 'couscous', 'and', 'pastilla', 'are', 'just', 'few', 'of', 'the', 'many', 'dishes', 'that', 'combine', 'plethora', 'of', 'flavors', 'and', 'spices', 'like', 'saffron', 'cumin', 'and', 'mint', 'paired', 'with', 'moroccan', 'mint', 'tea', 'the', 'culinary', 'experience', 'is', 'truly', 'unparalleled', 'in', 'conclusion', 'morocco', 'with', 'marrakech', 'at', 'its', 'heart', 'offers', 'travelers', 'an', 'unparalleled', 'journey', 'through', 'time', 'the', 'convergence', 'of', 'history', 'culture', 'architecture', 'and', 'gastronomy', 'makes', 'it', 'an', 'enthralling', 'destination', 'for', 'those', 'seeking', 'both', 'adventure', 'and', 'reflection', 'as', 'the', 'moroccan', 'proverb', 'goes', 'he', 'who', 'does', 'not', 'travel', 'does', 'not', 'know', 'the', 'value', 'of', 'men', 'in', 'the', 'case', 'of', 'morocco', 'and', 'marrakech', 'it', 'not', 'just', 'the', 'value', 'of', 'men', 'but', 'also', 'the', 'value', 'of', 'time', 'tradition', 'and', 'tales', 'that', 'have', 'spanned', 'centuries']\n"
          ]
        }
      ]
    },
    {
      "cell_type": "markdown",
      "source": [
        "Appliquer le modèle Word2Vec"
      ],
      "metadata": {
        "id": "8qabybfNTEfM"
      }
    },
    {
      "cell_type": "code",
      "source": [
        "# Entraînement du modèle Word2Vec\n",
        "model = Word2Vec(sentences=[preprocessed_text], vector_size=100, window=2, min_count=1, workers=4)"
      ],
      "metadata": {
        "id": "M3tYSYOQTP_d"
      },
      "execution_count": 6,
      "outputs": []
    },
    {
      "cell_type": "markdown",
      "source": [
        " Représentation vectorielle d'un mot"
      ],
      "metadata": {
        "id": "j9vLhh0yTUrh"
      }
    },
    {
      "cell_type": "code",
      "source": [
        "word_vector = model.wv['morocco']\n",
        "print(\"Représentation vectorielle du mot 'morocco':\", word_vector)"
      ],
      "metadata": {
        "colab": {
          "base_uri": "https://localhost:8080/"
        },
        "id": "M5IJxuzkTZfR",
        "outputId": "0850c651-478d-4ab4-9a3d-7fe989dd59d1"
      },
      "execution_count": 8,
      "outputs": [
        {
          "output_type": "stream",
          "name": "stdout",
          "text": [
            "Représentation vectorielle du mot 'morocco': [-8.7414328e-03  2.1853964e-03 -8.9978403e-04 -9.3268165e-03\n",
            " -9.3664154e-03 -1.5237378e-03  4.4778227e-03  3.7838784e-03\n",
            " -6.5160925e-03 -6.9308653e-03 -4.9718269e-03 -2.3694981e-03\n",
            " -7.3191770e-03 -9.5395939e-03 -2.7580720e-03 -8.3688488e-03\n",
            " -6.0627512e-03 -5.7214373e-03 -2.3942124e-03 -1.8287576e-03\n",
            " -8.9594973e-03 -7.1880349e-04  8.1934584e-03  7.6869042e-03\n",
            " -7.2387345e-03 -3.6496110e-03  3.1025426e-03 -9.5963348e-03\n",
            "  1.4227346e-03  6.5094675e-03  5.7589523e-03 -8.7745907e-03\n",
            " -4.4856491e-03 -8.1750778e-03 -4.1108397e-06  9.3082068e-03\n",
            "  5.9940591e-03  5.0589363e-03  5.0534694e-03 -3.3116732e-03\n",
            "  9.5693748e-03 -7.4000242e-03 -7.3122857e-03 -2.3051789e-03\n",
            " -7.0930243e-04 -3.2113662e-03 -6.0754298e-04  7.4892174e-03\n",
            " -6.1815756e-04 -1.5816760e-03  2.7337759e-03 -8.4072836e-03\n",
            "  7.9107657e-03  8.5245436e-03 -9.6125901e-03  2.4984342e-03\n",
            "  9.9275708e-03 -7.6711210e-03 -7.0209708e-03 -7.7054030e-03\n",
            "  8.4049078e-03 -6.8629620e-04  9.1835409e-03 -8.1678182e-03\n",
            "  3.7047029e-03  2.6766933e-03  8.0452993e-04  2.3780640e-03\n",
            " -7.5095966e-03 -9.2849173e-03  2.3254207e-03  6.1661415e-03\n",
            "  8.0529507e-03  5.7100169e-03 -7.3392625e-04  8.3590616e-03\n",
            " -9.3092304e-03  3.4012208e-03  2.2288768e-04  3.8587276e-03\n",
            "  7.3893350e-03 -6.7258393e-03  5.5317869e-03 -9.4939014e-03\n",
            " -8.3900173e-04 -8.7014539e-03 -5.0792838e-03  9.3453387e-03\n",
            " -1.7963378e-03  2.8790371e-03  9.1074100e-03  8.9919847e-03\n",
            " -8.1974119e-03 -2.9822686e-03  9.9441679e-03  5.1452327e-03\n",
            " -1.5436455e-03 -8.7088170e-03  2.9576058e-03 -6.6775689e-03]\n"
          ]
        }
      ]
    },
    {
      "cell_type": "markdown",
      "source": [
        "Calculer la similarité entre morrocco et marrackech"
      ],
      "metadata": {
        "id": "U8m6MAOdTqJC"
      }
    },
    {
      "cell_type": "code",
      "source": [
        "similarity = model.wv.similarity('morocco', 'marrakech')\n",
        "print(\"Similarité entre 'morocco' et 'marrakech':\", similarity)"
      ],
      "metadata": {
        "colab": {
          "base_uri": "https://localhost:8080/"
        },
        "id": "uZp-54TVTyLG",
        "outputId": "c77b6ab9-d2ad-43a3-9bcc-eaac2422a540"
      },
      "execution_count": 13,
      "outputs": [
        {
          "output_type": "stream",
          "name": "stdout",
          "text": [
            "Similarité entre 'morocco' et 'marrakech': 0.13529806\n"
          ]
        }
      ]
    },
    {
      "cell_type": "markdown",
      "source": [
        "Mots contextuels pour un mot central morocco"
      ],
      "metadata": {
        "id": "m5RV7K7YUk10"
      }
    },
    {
      "cell_type": "code",
      "source": [
        "similar_words = model.wv.most_similar('sahara', topn=3)\n",
        "print(\"Mots contextuels pour le mot 'sahara':\", similar_words)"
      ],
      "metadata": {
        "colab": {
          "base_uri": "https://localhost:8080/"
        },
        "id": "udExbJ8xUm2a",
        "outputId": "fabcefd0-ad34-4a59-a443-34f7cd142491"
      },
      "execution_count": 16,
      "outputs": [
        {
          "output_type": "stream",
          "name": "stdout",
          "text": [
            "Mots contextuels pour le mot 'sahara': [('paired', 0.26488620042800903), ('every', 0.26327836513519287), ('unique', 0.2584894597530365)]\n"
          ]
        }
      ]
    }
  ]
}