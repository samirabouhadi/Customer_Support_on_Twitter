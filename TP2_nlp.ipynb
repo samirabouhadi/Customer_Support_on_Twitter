{
  "nbformat": 4,
  "nbformat_minor": 0,
  "metadata": {
    "colab": {
      "provenance": []
    },
    "kernelspec": {
      "name": "python3",
      "display_name": "Python 3"
    },
    "language_info": {
      "name": "python"
    }
  },
  "cells": [
    {
      "cell_type": "markdown",
      "source": [
        "Importer la la bibliothèque Gensim"
      ],
      "metadata": {
        "id": "FtfZO2bJRuv7"
      }
    },
    {
      "cell_type": "code",
      "execution_count": 12,
      "metadata": {
        "colab": {
          "base_uri": "https://localhost:8080/"
        },
        "id": "CLgonUoWRQoy",
        "outputId": "ea330bf6-c208-4e31-8e86-72bc4b6e637e"
      },
      "outputs": [
        {
          "output_type": "stream",
          "name": "stderr",
          "text": [
            "[nltk_data] Downloading package wordnet to /root/nltk_data...\n",
            "[nltk_data]   Package wordnet is already up-to-date!\n"
          ]
        },
        {
          "output_type": "execute_result",
          "data": {
            "text/plain": [
              "True"
            ]
          },
          "metadata": {},
          "execution_count": 12
        }
      ],
      "source": [
        "import gensim\n",
        "from gensim.models import Word2Vec\n",
        "from gensim.parsing.preprocessing import STOPWORDS\n",
        "from nltk.corpus import wordnet\n",
        "from nltk.stem import WordNetLemmatizer\n",
        "import nltk\n",
        "nltk.download('wordnet')"
      ]
    },
    {
      "cell_type": "markdown",
      "source": [
        "Lire le fichier text"
      ],
      "metadata": {
        "id": "MKchvUvOSLy-"
      }
    },
    {
      "cell_type": "code",
      "source": [
        "# Ouverture du fichier en mode lecture\n",
        "with open('/content/text', 'r', encoding='utf-8') as file:\n",
        "    # Lecture du contenu du fichier\n",
        "    contenu = file.read()\n",
        "\n",
        "# Affichage du contenu du fichier\n",
        "print(contenu)\n"
      ],
      "metadata": {
        "colab": {
          "base_uri": "https://localhost:8080/"
        },
        "id": "8wALmWpuSPBa",
        "outputId": "e99594e1-0543-497c-f9f9-31ef619acdb3"
      },
      "execution_count": 13,
      "outputs": [
        {
          "output_type": "stream",
          "name": "stdout",
          "text": [
            "**Morocco and Marrakech: A Tapestry of Tradition and Modernity** Morocco, located at the crossroads of Europe and Africa, is a country drenched in history, mystery, and cultural richness. A testament to the ancient civilizations that once flourished here, this North African kingdom boasts a unique blend of Arab, Berber, and European influences. At the heart of Morocco's rich tapestry lies Marrakech, one of its four imperial cities and a vibrant epicenter of tradition and modernity. **Geographical Significance** Morocco is bordered by the Atlantic Ocean to the west, the Mediterranean Sea to the north, Algeria to the east and southeast, and the vast Sahara desert to the south. Its strategic location has historically made it a sought-after territory and a melting pot of cultures, religions, and trade routes. **Marrakech: The Red City** Marrakech, often referred to as \"The Red City\" due to its distinctive red-hued buildings, stands against the backdrop of the snow-capped Atlas Mountains. Established in the 11th century, it has remained a crucial political, economic, and cultural center of Morocco. **Journey through the Medina** Marrakech's old town, the Medina, is a UNESCO World Heritage site and a labyrinthine maze of narrow alleys, bustling souks, and historical landmarks. The Djemaa el-Fna Square lies at the heart of the Medina and comes alive every evening with storytellers, musicians, snake charmers, and food stalls offering tantalizing Moroccan delicacies. **Palaces and Gardens** The city is also home to grand palaces like the Bahia Palace, showcasing intricate Islamic architecture, and the Saadian Tombs, remnants of the Saadian dynasty. The Majorelle Garden, restored by the fashion designer Yves Saint Laurent, is a tranquil oasis of cacti, palm trees, and cobalt blue accents. **Modern Marrakech** While tradition and history permeate Marrakech, the city is not averse to the modern world. Gueliz, the new town, is brimming with contemporary art galleries, stylish cafes, and chic boutiques, offering a stark contrast to the ancient Medina. **Moroccan Cuisine** No journey through Morocco and Marrakech would be complete without indulging in the local cuisine. Tagines, couscous, and pastilla are just a few of the many dishes that combine a plethora of flavors and spices like saffron, cumin, and mint. Paired with Moroccan mint tea, the culinary experience is truly unparalleled. **In Conclusion** Morocco, with Marrakech at its heart, offers travelers an unparalleled journey through time. The convergence of history, culture, architecture, and gastronomy makes it an enthralling destination for those seeking both adventure and reflection. As the Moroccan proverb goes, \"He who does not travel does not know the value of men.\" In the case of Morocco and Marrakech, it's not just the value of men, but also the value of time, tradition, and tales that have spanned centuries.\n"
          ]
        }
      ]
    },
    {
      "cell_type": "code",
      "source": [
        "# Initialise le lemmatizer\n",
        "lemmatizer = WordNetLemmatizer()"
      ],
      "metadata": {
        "id": "08XCWxKl_4ot"
      },
      "execution_count": 14,
      "outputs": []
    },
    {
      "cell_type": "markdown",
      "source": [
        " Prétraitement du texte:transformer en miniscule et le diviser en tokens"
      ],
      "metadata": {
        "id": "JrPlm_cSScxu"
      }
    },
    {
      "cell_type": "code",
      "source": [
        "def preprocess_text(text):\n",
        "    # Convertir le texte en minuscules et diviser en tokens\n",
        "    tokens = gensim.utils.simple_preprocess(text, deacc=True)\n",
        "\n",
        "    # Lemmatization et suppression des mots vides\n",
        "    tokens = [lemmatizer.lemmatize(token, pos='v') for token in tokens if token not in STOPWORDS]\n",
        "\n",
        "    return tokens"
      ],
      "metadata": {
        "id": "-bFkqMnTSvg-"
      },
      "execution_count": 15,
      "outputs": []
    },
    {
      "cell_type": "code",
      "source": [
        "# Prétraitement du texte\n",
        "preprocessed_text = preprocess_text(contenu)\n",
        "print(preprocessed_text)"
      ],
      "metadata": {
        "colab": {
          "base_uri": "https://localhost:8080/"
        },
        "id": "oD9XcAaNS5Iz",
        "outputId": "03035f73-18e3-40de-ef15-a6c2ac00ff96"
      },
      "execution_count": 16,
      "outputs": [
        {
          "output_type": "stream",
          "name": "stdout",
          "text": [
            "['morocco', 'marrakech', 'tapestry', 'tradition', 'modernity', 'morocco', 'locate', 'crossroads', 'europe', 'africa', 'country', 'drench', 'history', 'mystery', 'cultural', 'richness', 'testament', 'ancient', 'civilizations', 'flourish', 'north', 'african', 'kingdom', 'boast', 'unique', 'blend', 'arab', 'berber', 'european', 'influence', 'heart', 'morocco', 'rich', 'tapestry', 'lie', 'marrakech', 'imperial', 'cities', 'vibrant', 'epicenter', 'tradition', 'modernity', 'geographical', 'significance', 'morocco', 'border', 'atlantic', 'ocean', 'west', 'mediterranean', 'sea', 'north', 'algeria', 'east', 'southeast', 'vast', 'sahara', 'desert', 'south', 'strategic', 'location', 'historically', 'seek', 'territory', 'melt', 'pot', 'culture', 'religions', 'trade', 'rout', 'marrakech', 'red', 'city', 'marrakech', 'refer', 'red', 'city', 'distinctive', 'red', 'hue', 'build', 'stand', 'backdrop', 'snow', 'cap', 'atlas', 'mountains', 'establish', 'th', 'century', 'remain', 'crucial', 'political', 'economic', 'cultural', 'center', 'morocco', 'journey', 'medina', 'marrakech', 'old', 'town', 'medina', 'unesco', 'world', 'heritage', 'site', 'labyrinthine', 'maze', 'narrow', 'alleys', 'bustle', 'souks', 'historical', 'landmarks', 'djemaa', 'el', 'fna', 'square', 'lie', 'heart', 'medina', 'come', 'alive', 'even', 'storytellers', 'musicians', 'snake', 'charmers', 'food', 'stall', 'offer', 'tantalize', 'moroccan', 'delicacies', 'palaces', 'garden', 'city', 'home', 'grand', 'palaces', 'like', 'bahia', 'palace', 'showcasing', 'intricate', 'islamic', 'architecture', 'saadian', 'tombs', 'remnants', 'saadian', 'dynasty', 'majorelle', 'garden', 'restore', 'fashion', 'designer', 'yves', 'saint', 'laurent', 'tranquil', 'oasis', 'cacti', 'palm', 'tree', 'cobalt', 'blue', 'accent', 'modern', 'marrakech', 'tradition', 'history', 'permeate', 'marrakech', 'city', 'averse', 'modern', 'world', 'gueliz', 'new', 'town', 'brim', 'contemporary', 'art', 'galleries', 'stylish', 'cafes', 'chic', 'boutiques', 'offer', 'stark', 'contrast', 'ancient', 'medina', 'moroccan', 'cuisine', 'journey', 'morocco', 'marrakech', 'complete', 'indulge', 'local', 'cuisine', 'tagines', 'couscous', 'pastilla', 'dish', 'combine', 'plethora', 'flavor', 'spice', 'like', 'saffron', 'cumin', 'mint', 'pair', 'moroccan', 'mint', 'tea', 'culinary', 'experience', 'truly', 'unparalleled', 'conclusion', 'morocco', 'marrakech', 'heart', 'offer', 'travelers', 'unparalleled', 'journey', 'time', 'convergence', 'history', 'culture', 'architecture', 'gastronomy', 'make', 'enthral', 'destination', 'seek', 'adventure', 'reflection', 'moroccan', 'proverb', 'go', 'travel', 'know', 'value', 'men', 'case', 'morocco', 'marrakech', 'value', 'men', 'value', 'time', 'tradition', 'tales', 'span', 'centuries']\n"
          ]
        }
      ]
    },
    {
      "cell_type": "markdown",
      "source": [
        "Appliquer le modèle Word2Vec"
      ],
      "metadata": {
        "id": "8qabybfNTEfM"
      }
    },
    {
      "cell_type": "code",
      "source": [
        "# Entraînement du modèle Word2Vec\n",
        "model = Word2Vec(sentences=[preprocessed_text], vector_size=100, window=2, min_count=1, workers=4)"
      ],
      "metadata": {
        "id": "M3tYSYOQTP_d"
      },
      "execution_count": 17,
      "outputs": []
    },
    {
      "cell_type": "markdown",
      "source": [
        " Représentation vectorielle d'un mot"
      ],
      "metadata": {
        "id": "j9vLhh0yTUrh"
      }
    },
    {
      "cell_type": "code",
      "source": [
        "word_vector = model.wv['morocco']\n",
        "print(\"Représentation vectorielle du mot 'morocco':\", word_vector)"
      ],
      "metadata": {
        "colab": {
          "base_uri": "https://localhost:8080/"
        },
        "id": "M5IJxuzkTZfR",
        "outputId": "ea96d477-a997-4798-935a-6c54d5f1a785"
      },
      "execution_count": 18,
      "outputs": [
        {
          "output_type": "stream",
          "name": "stdout",
          "text": [
            "Représentation vectorielle du mot 'morocco': [-8.6231697e-03  3.6613292e-03  5.2215741e-03  5.7599912e-03\n",
            "  7.4661663e-03 -6.2168436e-03  1.1166730e-03  6.0905833e-03\n",
            " -2.8540017e-03 -6.1830324e-03 -3.9961751e-04 -8.3875684e-03\n",
            " -5.6100674e-03  7.1399761e-03  3.3636845e-03  7.2506531e-03\n",
            "  6.8043848e-03  7.5075151e-03 -3.8006748e-03 -6.0678052e-04\n",
            "  2.3517231e-03 -4.4871145e-03  8.3802501e-03 -9.8953070e-03\n",
            "  6.7600836e-03  2.8929568e-03 -4.9380939e-03  4.3563005e-03\n",
            " -1.7652513e-03  6.7123133e-03  9.9878553e-03 -4.3487288e-03\n",
            " -5.8603758e-04 -5.7226978e-03  3.8300534e-03  2.8516906e-03\n",
            "  6.9147251e-03  6.0892929e-03  9.5448857e-03  9.2316894e-03\n",
            "  7.9137841e-03 -7.0437598e-03 -9.1687003e-03 -3.6280436e-04\n",
            " -3.0697312e-03  7.9042921e-03  5.9247245e-03 -1.5402085e-03\n",
            "  1.5446946e-03  1.7984493e-03  7.8361575e-03 -9.5276609e-03\n",
            " -1.7409372e-04  3.4618378e-03 -9.4058784e-04  8.4075257e-03\n",
            "  8.9966301e-03  6.5372493e-03 -7.3211850e-04  7.7342382e-03\n",
            " -8.5427137e-03  3.2319452e-03 -4.6494110e-03 -5.1248511e-03\n",
            "  3.5764375e-03  5.3855111e-03  7.8015537e-03 -5.7226685e-03\n",
            "  7.4152825e-03  6.6666687e-03 -3.7352599e-03 -8.7525165e-03\n",
            "  5.4496853e-03  6.4869788e-03 -7.3698570e-04 -6.6879708e-03\n",
            " -7.0804665e-03 -2.5102280e-03  5.1093670e-03 -3.6414505e-03\n",
            " -9.3846442e-03  3.8422234e-03  4.8394739e-03 -6.3754292e-03\n",
            "  1.1831569e-03 -2.0742293e-03  3.0596850e-05 -9.8640192e-03\n",
            "  2.7290850e-03 -4.7638877e-03  1.1218523e-03 -1.5561985e-03\n",
            "  2.1890907e-03 -7.8566270e-03 -2.6856880e-03  2.6823238e-03\n",
            "  5.3554536e-03 -2.4076491e-03 -9.5118452e-03  4.4666152e-03]\n"
          ]
        }
      ]
    },
    {
      "cell_type": "markdown",
      "source": [
        "Calculer la similarité entre morrocco et marrackech"
      ],
      "metadata": {
        "id": "U8m6MAOdTqJC"
      }
    },
    {
      "cell_type": "code",
      "source": [
        "similarity = model.wv.similarity('morocco', 'marrakech')\n",
        "print(\"Similarité entre 'morocco' et 'marrakech':\", similarity)"
      ],
      "metadata": {
        "colab": {
          "base_uri": "https://localhost:8080/"
        },
        "id": "uZp-54TVTyLG",
        "outputId": "cc4c69e1-1178-46eb-f51a-608f906b7758"
      },
      "execution_count": 19,
      "outputs": [
        {
          "output_type": "stream",
          "name": "stdout",
          "text": [
            "Similarité entre 'morocco' et 'marrakech': -0.009644944\n"
          ]
        }
      ]
    },
    {
      "cell_type": "markdown",
      "source": [
        "Mots contextuels pour un mot central morocco"
      ],
      "metadata": {
        "id": "m5RV7K7YUk10"
      }
    },
    {
      "cell_type": "code",
      "source": [
        "similar_words = model.wv.most_similar('sahara', topn=3)\n",
        "print(\"Mots contextuels pour le mot 'sahara':\", similar_words)"
      ],
      "metadata": {
        "colab": {
          "base_uri": "https://localhost:8080/"
        },
        "id": "udExbJ8xUm2a",
        "outputId": "036f2de5-66cd-4036-9564-0544e89bed48"
      },
      "execution_count": 20,
      "outputs": [
        {
          "output_type": "stream",
          "name": "stdout",
          "text": [
            "Mots contextuels pour le mot 'sahara': [('contemporary', 0.32554522156715393), ('cobalt', 0.26564034819602966), ('local', 0.25709232687950134)]\n"
          ]
        }
      ]
    }
  ]
}