{
  "nbformat": 4,
  "nbformat_minor": 0,
  "metadata": {
    "colab": {
      "provenance": []
    },
    "kernelspec": {
      "name": "python3",
      "display_name": "Python 3"
    },
    "language_info": {
      "name": "python"
    }
  },
  "cells": [
    {
      "cell_type": "code",
      "execution_count": 83,
      "metadata": {
        "id": "eHgQFU0LslXY"
      },
      "outputs": [],
      "source": [
        "import pandas as pd\n",
        "import numpy as np\n",
        "import nltk\n",
        "from nltk.corpus import stopwords\n",
        "from nltk.tokenize import word_tokenize\n",
        "from sklearn.model_selection import train_test_split\n",
        "from sklearn.linear_model import LogisticRegression\n",
        "from sklearn.metrics import accuracy_score, precision_score, recall_score, f1_score\n",
        "from gensim.models import Word2Vec"
      ]
    },
    {
      "cell_type": "code",
      "source": [
        "df=pd.read_csv('/content/movie_review.csv')"
      ],
      "metadata": {
        "id": "h-b3Ylxtt2vi"
      },
      "execution_count": 84,
      "outputs": []
    },
    {
      "cell_type": "code",
      "source": [
        "def preprocess_text(text):\n",
        "    # Convertir en minuscules\n",
        "    text = text.lower()\n",
        "\n",
        "    # Tokenization\n",
        "    tokens = word_tokenize(text)\n",
        "\n",
        "    # Supprimer la ponctuation\n",
        "    tokens = [word for word in tokens if word not in string.punctuation]\n",
        "\n",
        "    # Chargement des mots vides (stop words)\n",
        "    stop_words = set(stopwords.words('english'))\n",
        "\n",
        "    # Supprimer les mots vides\n",
        "    tokens = [word for word in tokens if word not in stop_words]\n",
        "\n",
        "    return tokens\n"
      ],
      "metadata": {
        "id": "Seu-ooviu0eN"
      },
      "execution_count": 85,
      "outputs": []
    },
    {
      "cell_type": "code",
      "source": [
        "df['preprocessed_text']=df['text'].apply(preprocess_text)\n",
        "df['preprocessed_text']"
      ],
      "metadata": {
        "colab": {
          "base_uri": "https://localhost:8080/"
        },
        "id": "ASmjLM1AClwX",
        "outputId": "7e0d6400-5019-4b2b-8867-226670507fa9"
      },
      "execution_count": 86,
      "outputs": [
        {
          "output_type": "execute_result",
          "data": {
            "text/plain": [
              "0        [films, adapted, comic, books, plenty, success...\n",
              "1        [starters, created, alan, moore, eddie, campbe...\n",
              "2        [say, moore, campbell, thoroughly, researched,...\n",
              "3        [book, ``, graphic, novel, ``, 500, pages, lon...\n",
              "4                      [words, n't, dismiss, film, source]\n",
              "                               ...                        \n",
              "64715    [lack, inspiration, traced, back, insipid, cha...\n",
              "64716    [like, many, skits, current, incarnation, _sat...\n",
              "64717    [watching, one, ``, roxbury, ``, skits, snl, c...\n",
              "64718                      [bump, unsuspecting, women, 's]\n",
              "64719    [watching, _a_night_at_the_roxbury_, 'll, left...\n",
              "Name: preprocessed_text, Length: 64720, dtype: object"
            ]
          },
          "metadata": {},
          "execution_count": 86
        }
      ]
    },
    {
      "cell_type": "code",
      "source": [
        "# Entraîner le modèle Word2Vec\n",
        "word2vec_model = Word2Vec(sentences=df['preprocessed_text'], vector_size=100, window=5, min_count=1, workers=4)"
      ],
      "metadata": {
        "id": "zOkorrBe0W0R"
      },
      "execution_count": 87,
      "outputs": []
    },
    {
      "cell_type": "code",
      "source": [
        "# Fonction pour vectoriser les critiques de films\n",
        "def vectorize_review(review, model):\n",
        "    word_vectors = []\n",
        "    for word in review:\n",
        "        if word in model.wv:\n",
        "            word_vectors.append(model.wv[word])\n",
        "    if len(word_vectors) > 0:\n",
        "        review_vector = np.mean(word_vectors, axis=0)\n",
        "        return review_vector\n",
        "    else:\n",
        "        return None\n",
        "\n",
        "# Vectoriser les critiques de films\n",
        "df['review_vector'] = df['preprocessed_text'].apply(lambda x: vectorize_review(x, word2vec_model))\n",
        "\n",
        "# Supprimer les lignes pour lesquelles la vectorisation a échoué\n",
        "df.dropna(subset=['review_vector'], inplace=True)\n",
        "\n",
        "# Afficher les premières lignes du DataFrame avec les reviews vectorisées\n",
        "\n",
        "df['review_vector']"
      ],
      "metadata": {
        "colab": {
          "base_uri": "https://localhost:8080/"
        },
        "id": "In4RFumy8INw",
        "outputId": "0ae41e5f-3113-4701-e9f1-9b4206b20af3"
      },
      "execution_count": 88,
      "outputs": [
        {
          "output_type": "execute_result",
          "data": {
            "text/plain": [
              "0        [-0.477141, 0.7070446, 0.41120675, 0.1622094, ...\n",
              "1        [-0.26166272, 0.52340794, 0.2711009, 0.3359048...\n",
              "2        [-0.33333933, 0.78850126, 0.38362736, 0.195701...\n",
              "3        [-0.52882695, 0.6873177, 0.4559792, 0.3531918,...\n",
              "4        [-0.59851027, 1.0088172, 0.12203376, -0.166611...\n",
              "                               ...                        \n",
              "64715    [0.0205277, 0.63933307, 0.061103567, -0.115975...\n",
              "64716    [-0.39885756, 0.67953736, 0.41460565, 0.179713...\n",
              "64717    [-0.74225986, 1.0223514, 0.846617, 0.34616452,...\n",
              "64718    [-0.2873286, 0.5512699, 0.46645766, 0.17928302...\n",
              "64719    [-0.6013006, 0.92944163, 0.38602832, -0.134092...\n",
              "Name: review_vector, Length: 64423, dtype: object"
            ]
          },
          "metadata": {},
          "execution_count": 88
        }
      ]
    },
    {
      "cell_type": "code",
      "source": [
        "# Diviser le dataset en ensembles d'entraînement et de test\n",
        "X = df['review_vector'].to_numpy()  # Features (vecteurs de critiques)\n",
        "y = df['tag']  # Labels (étiquettes de sentiment)\n",
        "\n",
        "X_train, X_test, y_train, y_test = train_test_split(X, y, test_size=0.2, random_state=42)"
      ],
      "metadata": {
        "id": "7iYDbpdQPKlG"
      },
      "execution_count": 89,
      "outputs": []
    },
    {
      "cell_type": "code",
      "source": [
        "# Entraîner un modèle de Logistic Regression\n",
        "clf = LogisticRegression(max_iter=1000)\n",
        "clf.fit(X_train.tolist(), y_train)"
      ],
      "metadata": {
        "colab": {
          "base_uri": "https://localhost:8080/",
          "height": 74
        },
        "id": "KTCfnBErPTMd",
        "outputId": "6064ae4c-6e35-443d-a17a-e58e79825941"
      },
      "execution_count": 90,
      "outputs": [
        {
          "output_type": "execute_result",
          "data": {
            "text/plain": [
              "LogisticRegression(max_iter=1000)"
            ],
            "text/html": [
              "<style>#sk-container-id-1 {color: black;background-color: white;}#sk-container-id-1 pre{padding: 0;}#sk-container-id-1 div.sk-toggleable {background-color: white;}#sk-container-id-1 label.sk-toggleable__label {cursor: pointer;display: block;width: 100%;margin-bottom: 0;padding: 0.3em;box-sizing: border-box;text-align: center;}#sk-container-id-1 label.sk-toggleable__label-arrow:before {content: \"▸\";float: left;margin-right: 0.25em;color: #696969;}#sk-container-id-1 label.sk-toggleable__label-arrow:hover:before {color: black;}#sk-container-id-1 div.sk-estimator:hover label.sk-toggleable__label-arrow:before {color: black;}#sk-container-id-1 div.sk-toggleable__content {max-height: 0;max-width: 0;overflow: hidden;text-align: left;background-color: #f0f8ff;}#sk-container-id-1 div.sk-toggleable__content pre {margin: 0.2em;color: black;border-radius: 0.25em;background-color: #f0f8ff;}#sk-container-id-1 input.sk-toggleable__control:checked~div.sk-toggleable__content {max-height: 200px;max-width: 100%;overflow: auto;}#sk-container-id-1 input.sk-toggleable__control:checked~label.sk-toggleable__label-arrow:before {content: \"▾\";}#sk-container-id-1 div.sk-estimator input.sk-toggleable__control:checked~label.sk-toggleable__label {background-color: #d4ebff;}#sk-container-id-1 div.sk-label input.sk-toggleable__control:checked~label.sk-toggleable__label {background-color: #d4ebff;}#sk-container-id-1 input.sk-hidden--visually {border: 0;clip: rect(1px 1px 1px 1px);clip: rect(1px, 1px, 1px, 1px);height: 1px;margin: -1px;overflow: hidden;padding: 0;position: absolute;width: 1px;}#sk-container-id-1 div.sk-estimator {font-family: monospace;background-color: #f0f8ff;border: 1px dotted black;border-radius: 0.25em;box-sizing: border-box;margin-bottom: 0.5em;}#sk-container-id-1 div.sk-estimator:hover {background-color: #d4ebff;}#sk-container-id-1 div.sk-parallel-item::after {content: \"\";width: 100%;border-bottom: 1px solid gray;flex-grow: 1;}#sk-container-id-1 div.sk-label:hover label.sk-toggleable__label {background-color: #d4ebff;}#sk-container-id-1 div.sk-serial::before {content: \"\";position: absolute;border-left: 1px solid gray;box-sizing: border-box;top: 0;bottom: 0;left: 50%;z-index: 0;}#sk-container-id-1 div.sk-serial {display: flex;flex-direction: column;align-items: center;background-color: white;padding-right: 0.2em;padding-left: 0.2em;position: relative;}#sk-container-id-1 div.sk-item {position: relative;z-index: 1;}#sk-container-id-1 div.sk-parallel {display: flex;align-items: stretch;justify-content: center;background-color: white;position: relative;}#sk-container-id-1 div.sk-item::before, #sk-container-id-1 div.sk-parallel-item::before {content: \"\";position: absolute;border-left: 1px solid gray;box-sizing: border-box;top: 0;bottom: 0;left: 50%;z-index: -1;}#sk-container-id-1 div.sk-parallel-item {display: flex;flex-direction: column;z-index: 1;position: relative;background-color: white;}#sk-container-id-1 div.sk-parallel-item:first-child::after {align-self: flex-end;width: 50%;}#sk-container-id-1 div.sk-parallel-item:last-child::after {align-self: flex-start;width: 50%;}#sk-container-id-1 div.sk-parallel-item:only-child::after {width: 0;}#sk-container-id-1 div.sk-dashed-wrapped {border: 1px dashed gray;margin: 0 0.4em 0.5em 0.4em;box-sizing: border-box;padding-bottom: 0.4em;background-color: white;}#sk-container-id-1 div.sk-label label {font-family: monospace;font-weight: bold;display: inline-block;line-height: 1.2em;}#sk-container-id-1 div.sk-label-container {text-align: center;}#sk-container-id-1 div.sk-container {/* jupyter's `normalize.less` sets `[hidden] { display: none; }` but bootstrap.min.css set `[hidden] { display: none !important; }` so we also need the `!important` here to be able to override the default hidden behavior on the sphinx rendered scikit-learn.org. See: https://github.com/scikit-learn/scikit-learn/issues/21755 */display: inline-block !important;position: relative;}#sk-container-id-1 div.sk-text-repr-fallback {display: none;}</style><div id=\"sk-container-id-1\" class=\"sk-top-container\"><div class=\"sk-text-repr-fallback\"><pre>LogisticRegression(max_iter=1000)</pre><b>In a Jupyter environment, please rerun this cell to show the HTML representation or trust the notebook. <br />On GitHub, the HTML representation is unable to render, please try loading this page with nbviewer.org.</b></div><div class=\"sk-container\" hidden><div class=\"sk-item\"><div class=\"sk-estimator sk-toggleable\"><input class=\"sk-toggleable__control sk-hidden--visually\" id=\"sk-estimator-id-1\" type=\"checkbox\" checked><label for=\"sk-estimator-id-1\" class=\"sk-toggleable__label sk-toggleable__label-arrow\">LogisticRegression</label><div class=\"sk-toggleable__content\"><pre>LogisticRegression(max_iter=1000)</pre></div></div></div></div></div>"
            ]
          },
          "metadata": {},
          "execution_count": 90
        }
      ]
    },
    {
      "cell_type": "code",
      "source": [
        "# Faire des prédictions sur l'ensemble de test\n",
        "y_pred = clf.predict(X_test.tolist())"
      ],
      "metadata": {
        "id": "pACPrBjtPXuU"
      },
      "execution_count": 91,
      "outputs": []
    },
    {
      "cell_type": "code",
      "source": [
        "\n",
        "# Évaluer les performances du modèle\n",
        "accuracy = accuracy_score(y_test, y_pred)\n",
        "precision = precision_score(y_test, y_pred, average='weighted')\n",
        "recall = recall_score(y_test, y_pred, average='weighted')\n",
        "f1 = f1_score(y_test, y_pred, average='weighted')\n",
        "\n",
        "print(\"Accuracy:\", accuracy)\n",
        "print(\"Precision:\", precision)\n",
        "print(\"Recall:\", recall)\n",
        "print(\"F1-score:\", f1)\n"
      ],
      "metadata": {
        "colab": {
          "base_uri": "https://localhost:8080/"
        },
        "id": "6khK2oJIA5Li",
        "outputId": "b91e3032-d5a9-47aa-e29f-d1c50cc20cec"
      },
      "execution_count": 92,
      "outputs": [
        {
          "output_type": "stream",
          "name": "stdout",
          "text": [
            "Accuracy: 0.5660845944897167\n",
            "Precision: 0.5690909445895584\n",
            "Recall: 0.5660845944897167\n",
            "F1-score: 0.558972599669998\n"
          ]
        }
      ]
    }
  ]
}